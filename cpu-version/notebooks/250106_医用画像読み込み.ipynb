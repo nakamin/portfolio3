{
 "cells": [
  {
   "cell_type": "markdown",
   "id": "d7109c95-96b4-4613-b696-99b4f6ada520",
   "metadata": {},
   "source": [
    "# 医用画像認識"
   ]
  },
  {
   "cell_type": "markdown",
   "id": "d0ba3cd9-881a-4528-add1-e2642c1474e4",
   "metadata": {},
   "source": [
    "- https://medmnist.com/\n",
    "- https://github.com/MedMNIST/MedMNIST/blob/main/examples/getting_started.ipynb\n",
    "- https://zenodo.org/records/10519652\n",
    "- https://qiita.com/yasudadesu/items/1dda5f9d1708b6d4d923\n",
    "\n",
    "The MedMNIST dataset contains several subsets. Each subset (e.g., pathmnist.npz) is comprised of 6 keys: train_images, train_labels, val_images, val_labels, test_images and test_labels.\n",
    "\n",
    "train_images / val_images / test_images: N × 28 × 28 for 2D gray-scale datasets, N × 28 × 28 × 3 for 2D RGB datasets, N × 28 × 28 × 28 for 3D datasets. N denotes the number of samples.\n",
    "train_labels / val_labels / test_labels: N × L. N denotes the number of samples. L denotes the number of task labels; for single-label (binary/multi-class) classification, L=1, and {0,1,2,3,..,C} denotes the category labels (C=1 for binary); for multi-label classification L!=1, e.g., L=14 for chestmnist.npz."
   ]
  },
  {
   "cell_type": "code",
   "execution_count": 8,
   "id": "da08f5b7-3644-46b8-9519-aff8d02f3194",
   "metadata": {},
   "outputs": [],
   "source": [
    "import numpy as np\n",
    "# ファイルを読み込む\n",
    "data = np.load(\"./data/organamnist_64.npz\")"
   ]
  },
  {
   "cell_type": "code",
   "execution_count": 16,
   "id": "753608a8-7d88-4c03-95ca-83cade45eebf",
   "metadata": {},
   "outputs": [
    {
     "name": "stdout",
     "output_type": "stream",
     "text": [
      "NpzFile './data/organamnist_64.npz' with keys: train_images, train_labels, val_images, val_labels, test_images...\n"
     ]
    }
   ],
   "source": [
    "print(data)"
   ]
  },
  {
   "cell_type": "code",
   "execution_count": 18,
   "id": "03677aab-75cd-4f37-b20d-72d0a75ee806",
   "metadata": {},
   "outputs": [
    {
     "name": "stdout",
     "output_type": "stream",
     "text": [
      "3.0.2\n"
     ]
    }
   ],
   "source": [
    "import medmnist\n",
    "print(medmnist.__version__)"
   ]
  },
  {
   "cell_type": "code",
   "execution_count": 19,
   "id": "f2eb8959-68df-4299-8b61-6b889742f268",
   "metadata": {},
   "outputs": [],
   "source": [
    "from medmnist import OrganAMNIST"
   ]
  },
  {
   "cell_type": "code",
   "execution_count": 21,
   "id": "61cd721f-b154-4dec-a969-98ec9fdbb954",
   "metadata": {},
   "outputs": [
    {
     "name": "stdout",
     "output_type": "stream",
     "text": [
      "Downloading https://zenodo.org/records/10519652/files/organamnist.npz?download=1 to C:\\Users\\omuom\\.medmnist\\organamnist.npz\n"
     ]
    },
    {
     "name": "stderr",
     "output_type": "stream",
     "text": [
      "\n",
      "00%|█████████████████████████████████████████████████████████████████████████████| 38.2M/38.2M [00:35<00:00, 1.09MB/s]"
     ]
    },
    {
     "name": "stdout",
     "output_type": "stream",
     "text": [
      "Using downloaded and verified file: C:\\Users\\omuom\\.medmnist\\organamnist.npz\n",
      "Using downloaded and verified file: C:\\Users\\omuom\\.medmnist\\organamnist.npz\n"
     ]
    }
   ],
   "source": [
    "train_dataset = OrganAMNIST(split=\"train\", download=True)  # 訓練データ\n",
    "val_dataset = OrganAMNIST(split=\"val\", download=True)      # 検証データ\n",
    "test_dataset = OrganAMNIST(split=\"test\", download=True)    # テストデータ"
   ]
  },
  {
   "cell_type": "code",
   "execution_count": 23,
   "id": "c499405e-e2a3-4b97-b044-27179bf27cd0",
   "metadata": {},
   "outputs": [
    {
     "data": {
      "text/plain": [
       "Dataset OrganAMNIST of size 28 (organamnist)\n",
       "    Number of datapoints: 34561\n",
       "    Root location: C:\\Users\\omuom\\.medmnist\n",
       "    Split: train\n",
       "    Task: multi-class\n",
       "    Number of channels: 1\n",
       "    Meaning of labels: {'0': 'bladder', '1': 'femur-left', '2': 'femur-right', '3': 'heart', '4': 'kidney-left', '5': 'kidney-right', '6': 'liver', '7': 'lung-left', '8': 'lung-right', '9': 'pancreas', '10': 'spleen'}\n",
       "    Number of samples: {'train': 34561, 'val': 6491, 'test': 17778}\n",
       "    Description: The OrganAMNIST is based on 3D computed tomography (CT) images from Liver Tumor Segmentation Benchmark (LiTS). It is renamed from OrganMNIST_Axial (in MedMNIST v1) for simplicity. We use bounding-box annotations of 11 body organs from another study to obtain the organ labels. Hounsfield-Unit (HU) of the 3D images are transformed into gray-scale with an abdominal window. We crop 2D images from the center slices of the 3D bounding boxes in axial views (planes). The images are resized into 1×28×28 to perform multi-class classification of 11 body organs. 115 and 16 CT scans from the source training set are used as training and validation set, respectively. The 70 CT scans from the source test set are treated as the test set.\n",
       "    License: CC BY 4.0"
      ]
     },
     "execution_count": 23,
     "metadata": {},
     "output_type": "execute_result"
    }
   ],
   "source": [
    "train_dataset"
   ]
  },
  {
   "cell_type": "code",
   "execution_count": 24,
   "id": "1115b4a3-deb3-479b-909c-198668928d03",
   "metadata": {},
   "outputs": [
    {
     "data": {
      "text/plain": [
       "Dataset OrganAMNIST of size 28 (organamnist)\n",
       "    Number of datapoints: 6491\n",
       "    Root location: C:\\Users\\omuom\\.medmnist\n",
       "    Split: val\n",
       "    Task: multi-class\n",
       "    Number of channels: 1\n",
       "    Meaning of labels: {'0': 'bladder', '1': 'femur-left', '2': 'femur-right', '3': 'heart', '4': 'kidney-left', '5': 'kidney-right', '6': 'liver', '7': 'lung-left', '8': 'lung-right', '9': 'pancreas', '10': 'spleen'}\n",
       "    Number of samples: {'train': 34561, 'val': 6491, 'test': 17778}\n",
       "    Description: The OrganAMNIST is based on 3D computed tomography (CT) images from Liver Tumor Segmentation Benchmark (LiTS). It is renamed from OrganMNIST_Axial (in MedMNIST v1) for simplicity. We use bounding-box annotations of 11 body organs from another study to obtain the organ labels. Hounsfield-Unit (HU) of the 3D images are transformed into gray-scale with an abdominal window. We crop 2D images from the center slices of the 3D bounding boxes in axial views (planes). The images are resized into 1×28×28 to perform multi-class classification of 11 body organs. 115 and 16 CT scans from the source training set are used as training and validation set, respectively. The 70 CT scans from the source test set are treated as the test set.\n",
       "    License: CC BY 4.0"
      ]
     },
     "execution_count": 24,
     "metadata": {},
     "output_type": "execute_result"
    }
   ],
   "source": [
    "val_dataset"
   ]
  },
  {
   "cell_type": "code",
   "execution_count": 25,
   "id": "00de9baa-0145-49a4-b99e-feb40f080ac3",
   "metadata": {},
   "outputs": [
    {
     "data": {
      "text/plain": [
       "Dataset OrganAMNIST of size 28 (organamnist)\n",
       "    Number of datapoints: 17778\n",
       "    Root location: C:\\Users\\omuom\\.medmnist\n",
       "    Split: test\n",
       "    Task: multi-class\n",
       "    Number of channels: 1\n",
       "    Meaning of labels: {'0': 'bladder', '1': 'femur-left', '2': 'femur-right', '3': 'heart', '4': 'kidney-left', '5': 'kidney-right', '6': 'liver', '7': 'lung-left', '8': 'lung-right', '9': 'pancreas', '10': 'spleen'}\n",
       "    Number of samples: {'train': 34561, 'val': 6491, 'test': 17778}\n",
       "    Description: The OrganAMNIST is based on 3D computed tomography (CT) images from Liver Tumor Segmentation Benchmark (LiTS). It is renamed from OrganMNIST_Axial (in MedMNIST v1) for simplicity. We use bounding-box annotations of 11 body organs from another study to obtain the organ labels. Hounsfield-Unit (HU) of the 3D images are transformed into gray-scale with an abdominal window. We crop 2D images from the center slices of the 3D bounding boxes in axial views (planes). The images are resized into 1×28×28 to perform multi-class classification of 11 body organs. 115 and 16 CT scans from the source training set are used as training and validation set, respectively. The 70 CT scans from the source test set are treated as the test set.\n",
       "    License: CC BY 4.0"
      ]
     },
     "execution_count": 25,
     "metadata": {},
     "output_type": "execute_result"
    }
   ],
   "source": [
    "test_dataset"
   ]
  },
  {
   "cell_type": "code",
   "execution_count": 26,
   "id": "b1dd7ea3-1ad6-4b6a-a566-40118ddb62d1",
   "metadata": {},
   "outputs": [
    {
     "name": "stdout",
     "output_type": "stream",
     "text": [
      "データサイズ: (34561, 28, 28)\n",
      "最初のラベル: [6]\n"
     ]
    }
   ],
   "source": [
    "# データとラベルを確認\n",
    "images, labels = train_dataset.imgs, train_dataset.labels\n",
    "print(f\"データサイズ: {images.shape}\")\n",
    "print(f\"最初のラベル: {labels[0]}\")"
   ]
  },
  {
   "cell_type": "code",
   "execution_count": 29,
   "id": "c6a9c78c-65d1-4ab4-8949-b9a3c619bd49",
   "metadata": {},
   "outputs": [
    {
     "name": "stdout",
     "output_type": "stream",
     "text": [
      "クラス対応表: {'0': 'bladder', '1': 'femur-left', '2': 'femur-right', '3': 'heart', '4': 'kidney-left', '5': 'kidney-right', '6': 'liver', '7': 'lung-left', '8': 'lung-right', '9': 'pancreas', '10': 'spleen'}\n"
     ]
    }
   ],
   "source": [
    "class_names = train_dataset.info['label']\n",
    "print(\"クラス対応表:\", class_names)"
   ]
  },
  {
   "cell_type": "code",
   "execution_count": 30,
   "id": "4923d89c-7104-492f-8fb4-182104f93c6d",
   "metadata": {},
   "outputs": [
    {
     "data": {
      "text/plain": [
       "{'python_class': 'OrganAMNIST',\n",
       " 'description': 'The OrganAMNIST is based on 3D computed tomography (CT) images from Liver Tumor Segmentation Benchmark (LiTS). It is renamed from OrganMNIST_Axial (in MedMNIST v1) for simplicity. We use bounding-box annotations of 11 body organs from another study to obtain the organ labels. Hounsfield-Unit (HU) of the 3D images are transformed into gray-scale with an abdominal window. We crop 2D images from the center slices of the 3D bounding boxes in axial views (planes). The images are resized into 1×28×28 to perform multi-class classification of 11 body organs. 115 and 16 CT scans from the source training set are used as training and validation set, respectively. The 70 CT scans from the source test set are treated as the test set.',\n",
       " 'url': 'https://zenodo.org/records/10519652/files/organamnist.npz?download=1',\n",
       " 'MD5': '68e3f8846a6bd62f0c9bf841c0d9eacc',\n",
       " 'url_64': 'https://zenodo.org/records/10519652/files/organamnist_64.npz?download=1',\n",
       " 'MD5_64': '2dcccc29b88e6da5a01161ef20cda288',\n",
       " 'url_128': 'https://zenodo.org/records/10519652/files/organamnist_128.npz?download=1',\n",
       " 'MD5_128': 'eeae80d0a227a8d099027e1b3cfd3b60',\n",
       " 'url_224': 'https://zenodo.org/records/10519652/files/organamnist_224.npz?download=1',\n",
       " 'MD5_224': '50747347e05c87dd3aaf92c49f9f3170',\n",
       " 'task': 'multi-class',\n",
       " 'label': {'0': 'bladder',\n",
       "  '1': 'femur-left',\n",
       "  '2': 'femur-right',\n",
       "  '3': 'heart',\n",
       "  '4': 'kidney-left',\n",
       "  '5': 'kidney-right',\n",
       "  '6': 'liver',\n",
       "  '7': 'lung-left',\n",
       "  '8': 'lung-right',\n",
       "  '9': 'pancreas',\n",
       "  '10': 'spleen'},\n",
       " 'n_channels': 1,\n",
       " 'n_samples': {'train': 34561, 'val': 6491, 'test': 17778},\n",
       " 'license': 'CC BY 4.0'}"
      ]
     },
     "execution_count": 30,
     "metadata": {},
     "output_type": "execute_result"
    }
   ],
   "source": [
    "train_dataset.info"
   ]
  },
  {
   "cell_type": "markdown",
   "id": "b358f389-177b-4fc1-97f5-5bca5ff66ea3",
   "metadata": {},
   "source": [
    "- '0': 'bladder' → 膀胱\n",
    "- '1': 'femur-left' → 左大腿骨\n",
    "- '2': 'femur-right' → 右大腿骨\n",
    "- '3': 'heart' → 心臓\n",
    "- '4': 'kidney-left' → 左腎臓\n",
    "- '5': 'kidney-right' → 右腎臓\n",
    "- '6': 'liver' → 肝臓\n",
    "- '7': 'lung-left' → 左肺\n",
    "- '8': 'lung-right' → 右肺\n",
    "- '9': 'pancreas' → 膵臓\n",
    "- '10': 'spleen' → 脾臓"
   ]
  },
  {
   "cell_type": "code",
   "execution_count": 31,
   "id": "a69f470a-c1b8-4a91-aa84-7fddd2ad4252",
   "metadata": {},
   "outputs": [
    {
     "name": "stdout",
     "output_type": "stream",
     "text": [
      "Downloading https://zenodo.org/records/10519652/files/pathmnist.npz?download=1 to C:\\Users\\omuom\\.medmnist\\pathmnist.npz\n"
     ]
    },
    {
     "name": "stderr",
     "output_type": "stream",
     "text": [
      "\n",
      "00%|███████████████████████████████████████████████████████████████████████████████| 206M/206M [01:06<00:00, 3.12MB/s]"
     ]
    },
    {
     "name": "stdout",
     "output_type": "stream",
     "text": [
      "Using downloaded and verified file: C:\\Users\\omuom\\.medmnist\\pathmnist.npz\n",
      "Using downloaded and verified file: C:\\Users\\omuom\\.medmnist\\pathmnist.npz\n"
     ]
    },
    {
     "data": {
      "text/plain": [
       "Dataset PathMNIST of size 28 (pathmnist)\n",
       "    Number of datapoints: 89996\n",
       "    Root location: C:\\Users\\omuom\\.medmnist\n",
       "    Split: train\n",
       "    Task: multi-class\n",
       "    Number of channels: 3\n",
       "    Meaning of labels: {'0': 'adipose', '1': 'background', '2': 'debris', '3': 'lymphocytes', '4': 'mucus', '5': 'smooth muscle', '6': 'normal colon mucosa', '7': 'cancer-associated stroma', '8': 'colorectal adenocarcinoma epithelium'}\n",
       "    Number of samples: {'train': 89996, 'val': 10004, 'test': 7180}\n",
       "    Description: The PathMNIST is based on a prior study for predicting survival from colorectal cancer histology slides, providing a dataset (NCT-CRC-HE-100K) of 100,000 non-overlapping image patches from hematoxylin & eosin stained histological images, and a test dataset (CRC-VAL-HE-7K) of 7,180 image patches from a different clinical center. The dataset is comprised of 9 types of tissues, resulting in a multi-class classification task. We resize the source images of 3×224×224 into 3×28×28, and split NCT-CRC-HE-100K into training and validation set with a ratio of 9:1. The CRC-VAL-HE-7K is treated as the test set.\n",
       "    License: CC BY 4.0"
      ]
     },
     "execution_count": 31,
     "metadata": {},
     "output_type": "execute_result"
    }
   ],
   "source": [
    "from medmnist import PathMNIST\n",
    "train_dataset = PathMNIST(split=\"train\", download=True)  # 訓練データ\n",
    "val_dataset = PathMNIST(split=\"val\", download=True)      # 検証データ\n",
    "test_dataset = PathMNIST(split=\"test\", download=True)    # テストデータ\n",
    "train_dataset"
   ]
  },
  {
   "cell_type": "code",
   "execution_count": null,
   "id": "2a85095f-dc77-4f08-987b-60fe1564db68",
   "metadata": {},
   "outputs": [],
   "source": []
  }
 ],
 "metadata": {
  "kernelspec": {
   "display_name": "Python 3 (ipykernel)",
   "language": "python",
   "name": "python3"
  },
  "language_info": {
   "codemirror_mode": {
    "name": "ipython",
    "version": 3
   },
   "file_extension": ".py",
   "mimetype": "text/x-python",
   "name": "python",
   "nbconvert_exporter": "python",
   "pygments_lexer": "ipython3",
   "version": "3.11.6"
  }
 },
 "nbformat": 4,
 "nbformat_minor": 5
}
